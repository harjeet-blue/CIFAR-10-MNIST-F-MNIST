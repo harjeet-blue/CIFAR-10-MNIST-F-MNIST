{
  "nbformat": 4,
  "nbformat_minor": 0,
  "metadata": {
    "colab": {
      "name": "SML_A3_Q4.ipynb",
      "provenance": []
    },
    "kernelspec": {
      "name": "python3",
      "display_name": "Python 3"
    },
    "language_info": {
      "name": "python"
    }
  },
  "cells": [
    {
      "cell_type": "code",
      "execution_count": null,
      "metadata": {
        "id": "3jhwbIcF8t0O"
      },
      "outputs": [],
      "source": [
        "from sklearn.datasets import fetch_openml\n",
        "import matplotlib\n",
        "import matplotlib.pyplot as plt\n",
        "import numpy as np\n",
        "from sklearn.decomposition import PCA\n",
        "from sklearn.ensemble import RandomForestClassifier\n",
        "from sklearn.preprocessing import StandardScaler\n",
        "from sklearn.metrics import accuracy_score\n",
        "from sklearn.metrics import confusion_matrix\n",
        "import seaborn as sns\n",
        "from sklearn.discriminant_analysis import LinearDiscriminantAnalysis as LDA"
      ]
    },
    {
      "cell_type": "code",
      "source": [
        "mnist = fetch_openml('mnist_784')"
      ],
      "metadata": {
        "id": "d05XfYXm9l7n"
      },
      "execution_count": null,
      "outputs": []
    },
    {
      "cell_type": "code",
      "source": [
        "x, y = mnist['data'], mnist['target']"
      ],
      "metadata": {
        "id": "qu-oueOa9l-u"
      },
      "execution_count": null,
      "outputs": []
    },
    {
      "cell_type": "code",
      "source": [
        "x = np.array(x)\n",
        "y = np.array(y)"
      ],
      "metadata": {
        "id": "8MCi9HUM40Rg"
      },
      "execution_count": null,
      "outputs": []
    },
    {
      "cell_type": "code",
      "source": [
        "x.shape"
      ],
      "metadata": {
        "colab": {
          "base_uri": "https://localhost:8080/"
        },
        "id": "5_ZMf7eJ9mB3",
        "outputId": "5bf73560-b20d-4e51-ffce-31edef77efc9"
      },
      "execution_count": null,
      "outputs": [
        {
          "output_type": "execute_result",
          "data": {
            "text/plain": [
              "(70000, 784)"
            ]
          },
          "metadata": {},
          "execution_count": 66
        }
      ]
    },
    {
      "cell_type": "code",
      "source": [
        "y.shape"
      ],
      "metadata": {
        "colab": {
          "base_uri": "https://localhost:8080/"
        },
        "id": "26GGda_u-lhp",
        "outputId": "48d5861b-d6df-4bdf-cdfd-1b5b7602cfd8"
      },
      "execution_count": null,
      "outputs": [
        {
          "output_type": "execute_result",
          "data": {
            "text/plain": [
              "(70000,)"
            ]
          },
          "metadata": {},
          "execution_count": 67
        }
      ]
    },
    {
      "cell_type": "code",
      "source": [
        "x_train, x_test = x[:60000], x[60000:70000]\n",
        "y_train, y_test = y[:60000], y[60000:70000]"
      ],
      "metadata": {
        "id": "5qCmTR7x-le9"
      },
      "execution_count": null,
      "outputs": []
    },
    {
      "cell_type": "code",
      "source": [
        "X_train = x_train\n",
        "x_train.shape  # 60 thousand training data set\n",
        "X_train = np.array(X_train)"
      ],
      "metadata": {
        "id": "1UJRGz9N-lcV"
      },
      "execution_count": null,
      "outputs": []
    },
    {
      "cell_type": "code",
      "source": [
        "x_test = np.array(x_test)\n",
        "x_test.shape   # 10 thousand testing data set"
      ],
      "metadata": {
        "colab": {
          "base_uri": "https://localhost:8080/"
        },
        "id": "X06yvm3Y-u8P",
        "outputId": "fbee96f9-bae9-48e3-ed68-1059b9492ebd"
      },
      "execution_count": null,
      "outputs": [
        {
          "output_type": "execute_result",
          "data": {
            "text/plain": [
              "(10000, 784)"
            ]
          },
          "metadata": {},
          "execution_count": 79
        }
      ]
    },
    {
      "cell_type": "code",
      "source": [
        "y_train = y_train.astype(np.int)\n",
        "y_train.shape"
      ],
      "metadata": {
        "colab": {
          "base_uri": "https://localhost:8080/"
        },
        "id": "R0xM039G_H7s",
        "outputId": "0ed1a7df-819d-4e0e-b083-b35552d318ed"
      },
      "execution_count": null,
      "outputs": [
        {
          "output_type": "stream",
          "name": "stderr",
          "text": [
            "/usr/local/lib/python3.7/dist-packages/ipykernel_launcher.py:1: DeprecationWarning: `np.int` is a deprecated alias for the builtin `int`. To silence this warning, use `int` by itself. Doing this will not modify any behavior and is safe. When replacing `np.int`, you may wish to use e.g. `np.int64` or `np.int32` to specify the precision. If you wish to review your current use, check the release note link for additional information.\n",
            "Deprecated in NumPy 1.20; for more details and guidance: https://numpy.org/devdocs/release/1.20.0-notes.html#deprecations\n",
            "  \"\"\"Entry point for launching an IPython kernel.\n"
          ]
        },
        {
          "output_type": "execute_result",
          "data": {
            "text/plain": [
              "(60000,)"
            ]
          },
          "metadata": {},
          "execution_count": 71
        }
      ]
    },
    {
      "cell_type": "code",
      "source": [
        "y_train[:10]"
      ],
      "metadata": {
        "colab": {
          "base_uri": "https://localhost:8080/"
        },
        "id": "_cXtaUBm_L1N",
        "outputId": "0f8addf2-de9b-48a4-f48f-866707609a29"
      },
      "execution_count": null,
      "outputs": [
        {
          "output_type": "execute_result",
          "data": {
            "text/plain": [
              "array([5, 0, 4, 1, 9, 2, 1, 3, 1, 4])"
            ]
          },
          "metadata": {},
          "execution_count": 72
        }
      ]
    },
    {
      "cell_type": "code",
      "source": [
        "y_test = y_test.astype(np.int)\n",
        "y_test.shape"
      ],
      "metadata": {
        "colab": {
          "base_uri": "https://localhost:8080/"
        },
        "id": "8-Dr0uZu_H31",
        "outputId": "915a3ea0-2587-4ae6-f26a-ab06c8693b4b"
      },
      "execution_count": null,
      "outputs": [
        {
          "output_type": "stream",
          "name": "stderr",
          "text": [
            "/usr/local/lib/python3.7/dist-packages/ipykernel_launcher.py:1: DeprecationWarning: `np.int` is a deprecated alias for the builtin `int`. To silence this warning, use `int` by itself. Doing this will not modify any behavior and is safe. When replacing `np.int`, you may wish to use e.g. `np.int64` or `np.int32` to specify the precision. If you wish to review your current use, check the release note link for additional information.\n",
            "Deprecated in NumPy 1.20; for more details and guidance: https://numpy.org/devdocs/release/1.20.0-notes.html#deprecations\n",
            "  \"\"\"Entry point for launching an IPython kernel.\n"
          ]
        },
        {
          "output_type": "execute_result",
          "data": {
            "text/plain": [
              "(10000,)"
            ]
          },
          "metadata": {},
          "execution_count": 73
        }
      ]
    },
    {
      "cell_type": "markdown",
      "source": [
        "# DATA visualisation"
      ],
      "metadata": {
        "id": "2oGX3D0Z3K5C"
      }
    },
    {
      "cell_type": "code",
      "source": [
        "some_image = x[50]\n",
        "some_image = some_image.reshape(28,28)\n",
        "plt.imshow(some_image, cmap=matplotlib.cm.binary,interpolation='nearest')"
      ],
      "metadata": {
        "colab": {
          "base_uri": "https://localhost:8080/",
          "height": 282
        },
        "id": "4z1IyCT03KBh",
        "outputId": "482b53f5-5f2f-4888-89f4-4e285fac7b69"
      },
      "execution_count": null,
      "outputs": [
        {
          "output_type": "execute_result",
          "data": {
            "text/plain": [
              "<matplotlib.image.AxesImage at 0x7f69de489f50>"
            ]
          },
          "metadata": {},
          "execution_count": 24
        },
        {
          "output_type": "display_data",
          "data": {
            "text/plain": [
              "<Figure size 432x288 with 1 Axes>"
            ],
            "image/png": "[encoded data removed]"
          },
          "metadata": {
            "needs_background": "light"
          }
        }
      ]
    },
    {
      "cell_type": "code",
      "source": [
        "some_image = x[500]\n",
        "some_image = some_image.reshape(28,28)\n",
        "plt.imshow(some_image, cmap=matplotlib.cm.binary,interpolation='nearest')"
      ],
      "metadata": {
        "colab": {
          "base_uri": "https://localhost:8080/",
          "height": 282
        },
        "id": "ofAfNR0X5Td1",
        "outputId": "f645d572-8021-4660-cde3-66e56eb5e433"
      },
      "execution_count": null,
      "outputs": [
        {
          "output_type": "execute_result",
          "data": {
            "text/plain": [
              "<matplotlib.image.AxesImage at 0x7f69de3fb610>"
            ]
          },
          "metadata": {},
          "execution_count": 25
        },
        {
          "output_type": "display_data",
          "data": {
            "text/plain": [
              "<Figure size 432x288 with 1 Axes>"
            ],
            "image/png": "[encoded data removed]"
          },
          "metadata": {
            "needs_background": "light"
          }
        }
      ]
    },
    {
      "cell_type": "code",
      "source": [
        "some_image = x[69]\n",
        "some_image = some_image.reshape(28,28)\n",
        "plt.imshow(some_image, cmap=matplotlib.cm.binary,interpolation='nearest')"
      ],
      "metadata": {
        "colab": {
          "base_uri": "https://localhost:8080/",
          "height": 282
        },
        "id": "DXuvX5zJ5sid",
        "outputId": "950ff1a2-ffc8-475e-d162-64127e83f6ac"
      },
      "execution_count": null,
      "outputs": [
        {
          "output_type": "execute_result",
          "data": {
            "text/plain": [
              "<matplotlib.image.AxesImage at 0x7f69de3e2ad0>"
            ]
          },
          "metadata": {},
          "execution_count": 26
        },
        {
          "output_type": "display_data",
          "data": {
            "text/plain": [
              "<Figure size 432x288 with 1 Axes>"
            ],
            "image/png": "[encoded data removed]"
          },
          "metadata": {
            "needs_background": "light"
          }
        }
      ]
    },
    {
      "cell_type": "code",
      "source": [
        "some_image = x[784]\n",
        "some_image = some_image.reshape(28,28)\n",
        "plt.imshow(some_image, cmap=matplotlib.cm.binary,interpolation='nearest')"
      ],
      "metadata": {
        "colab": {
          "base_uri": "https://localhost:8080/",
          "height": 282
        },
        "id": "HBnv9GS95vHT",
        "outputId": "d4f2e377-f899-4905-8ecf-17d27d7d33b2"
      },
      "execution_count": null,
      "outputs": [
        {
          "output_type": "execute_result",
          "data": {
            "text/plain": [
              "<matplotlib.image.AxesImage at 0x7f69de34af50>"
            ]
          },
          "metadata": {},
          "execution_count": 27
        },
        {
          "output_type": "display_data",
          "data": {
            "text/plain": [
              "<Figure size 432x288 with 1 Axes>"
            ],
            "image/png": "[encoded data removed]"
          },
          "metadata": {
            "needs_background": "light"
          }
        }
      ]
    },
    {
      "cell_type": "markdown",
      "source": [
        "# PCA on CIFAR-10 dataset with Hyperparameter = 15"
      ],
      "metadata": {
        "id": "tbGAy0Fv_57Q"
      }
    },
    {
      "cell_type": "code",
      "source": [
        "pca = PCA(n_components=15)  # PCA with n_components = 15  i.e no of dimensions will be redueced to 15 from 784\n",
        "pca.fit(x_train,y_train)"
      ],
      "metadata": {
        "id": "2-U0Q7Zr_mFF",
        "colab": {
          "base_uri": "https://localhost:8080/"
        },
        "outputId": "e7ff5000-6eb8-4514-900a-116c3bafc302"
      },
      "execution_count": null,
      "outputs": [
        {
          "output_type": "execute_result",
          "data": {
            "text/plain": [
              "PCA(n_components=15)"
            ]
          },
          "metadata": {},
          "execution_count": 49
        }
      ]
    },
    {
      "cell_type": "code",
      "source": [
        "x_train.shape"
      ],
      "metadata": {
        "colab": {
          "base_uri": "https://localhost:8080/"
        },
        "id": "FzkP6GCN9d-a",
        "outputId": "db1879bf-af10-4a69-d0bd-6889f2f7a6fe"
      },
      "execution_count": null,
      "outputs": [
        {
          "output_type": "execute_result",
          "data": {
            "text/plain": [
              "(60000, 784)"
            ]
          },
          "metadata": {},
          "execution_count": 50
        }
      ]
    },
    {
      "cell_type": "code",
      "source": [
        "classifier = RandomForestClassifier(max_depth=2, random_state=0)\n",
        "classifier.fit(x_train, y_train)\n",
        "\n",
        "# Predicting the Test set results\n",
        "y_pred = classifier.predict(x_test)"
      ],
      "metadata": {
        "id": "MvzDdhQZ9aOS"
      },
      "execution_count": null,
      "outputs": []
    },
    {
      "cell_type": "code",
      "source": [
        "print('Accuracy' , accuracy_score(y_test, y_pred))"
      ],
      "metadata": {
        "colab": {
          "base_uri": "https://localhost:8080/"
        },
        "id": "5stZbBzD-GqF",
        "outputId": "cf7cb63f-6c78-4707-d024-d3ba098a0601"
      },
      "execution_count": null,
      "outputs": [
        {
          "output_type": "stream",
          "name": "stdout",
          "text": [
            "Accuracy 0.6364\n"
          ]
        }
      ]
    },
    {
      "cell_type": "markdown",
      "source": [
        "# Applying FDA on transformed dataset"
      ],
      "metadata": {
        "id": "yn8iLkdGFkZH"
      }
    },
    {
      "cell_type": "code",
      "source": [
        "class_list = []\n",
        "for i in range(10):\n",
        "  class_list.append([])"
      ],
      "metadata": {
        "id": "qmOWZvRtFrp_"
      },
      "execution_count": null,
      "outputs": []
    },
    {
      "cell_type": "code",
      "source": [
        "for i in range(60000):                # separating data classwise out of 60K ,  6K sample beglongs to each class\n",
        "  class_list[y_train[i]].append(X_train[i])"
      ],
      "metadata": {
        "id": "G1gHZZqC-6cB"
      },
      "execution_count": null,
      "outputs": []
    },
    {
      "cell_type": "code",
      "source": [
        "class_list = np.array(class_list) "
      ],
      "metadata": {
        "colab": {
          "base_uri": "https://localhost:8080/"
        },
        "id": "fmCe7dre-6Ss",
        "outputId": "39e44d01-7c6a-4e34-bc96-2941fc8e8d22"
      },
      "execution_count": null,
      "outputs": [
        {
          "output_type": "stream",
          "name": "stderr",
          "text": [
            "/usr/local/lib/python3.7/dist-packages/ipykernel_launcher.py:1: VisibleDeprecationWarning: Creating an ndarray from ragged nested sequences (which is a list-or-tuple of lists-or-tuples-or ndarrays with different lengths or shapes) is deprecated. If you meant to do this, you must specify 'dtype=object' when creating the ndarray.\n",
            "  \"\"\"Entry point for launching an IPython kernel.\n"
          ]
        }
      ]
    },
    {
      "cell_type": "code",
      "source": [
        "X_list = []                        # converted the N x D format to D x N for each class for computation\n",
        "for i in range(10):\n",
        "  class_list[i] = np.array(class_list[i])\n",
        "  X_list.append(class_list[i].transpose())\n",
        "  \n",
        "\n",
        "X_list[0].shape"
      ],
      "metadata": {
        "colab": {
          "base_uri": "https://localhost:8080/"
        },
        "id": "uo3KmPQl-6Op",
        "outputId": "bf9c666f-ab72-4bbb-a1a6-6235870aa2f2"
      },
      "execution_count": null,
      "outputs": [
        {
          "output_type": "execute_result",
          "data": {
            "text/plain": [
              "(784, 5923)"
            ]
          },
          "metadata": {},
          "execution_count": 82
        }
      ]
    },
    {
      "cell_type": "code",
      "source": [
        "# finding scatter matrix of each class Xi\n",
        "\n",
        "Sw = np.zeros([784,784])          # Sw matrix = S1 + S2 + S3 \n",
        "\n",
        "for i in range(10):\n",
        "\n",
        "  A = X_list[i] - X_list[i].mean(axis = 1, keepdims=True)\n",
        "  B = A.transpose()\n",
        "  S = A@B\n",
        "  Sw = Sw + S\n",
        "\n",
        "Sw.shape  "
      ],
      "metadata": {
        "colab": {
          "base_uri": "https://localhost:8080/"
        },
        "id": "BHuak8Lf-6MB",
        "outputId": "fdc1e08c-0302-474e-c159-85a621b0767b"
      },
      "execution_count": null,
      "outputs": [
        {
          "output_type": "execute_result",
          "data": {
            "text/plain": [
              "(784, 784)"
            ]
          },
          "metadata": {},
          "execution_count": 83
        }
      ]
    },
    {
      "cell_type": "code",
      "source": [
        "# finding ST matrix  Total Scatter matrix\n",
        "XT = np.zeros([784,6000])\n",
        "\n",
        "for i in range(10):\n",
        "  XT = XT + X_list[i]                    # XT = X1 + X2 + X3 + X4 + .......\n",
        "XT = XT - XT.mean(axis = 1 , keepdims=True)    # (XT - Ux)\n",
        "XTT = XT.transpose()                           # (XT - Ux)'\n",
        "\n",
        "ST = XT@XTT                  # ST = (XT - Ux)(XT - Ux)'         total scatter matrix\n",
        "\n",
        "ST.shape "
      ],
      "metadata": {
        "id": "3iiPksIL-6Jr"
      },
      "execution_count": null,
      "outputs": []
    },
    {
      "cell_type": "code",
      "source": [
        "SB = ST - Sw      # class scatter matrix = Total Scatter - Sw\n",
        "\n",
        "SB.shape"
      ],
      "metadata": {
        "id": "gMou6Irq-6FJ"
      },
      "execution_count": null,
      "outputs": []
    },
    {
      "cell_type": "code",
      "source": [
        "Temp = np.linalg.inv(Sw)   # inverse of Sw matrix \n",
        "Temp = Temp@SB\n",
        "Temp.shape"
      ],
      "metadata": {
        "id": "9ubBl5aV-6Cp"
      },
      "execution_count": null,
      "outputs": []
    },
    {
      "cell_type": "markdown",
      "source": [
        "# LDA on transformed data"
      ],
      "metadata": {
        "id": "cBhJccYaC2po"
      }
    },
    {
      "cell_type": "code",
      "source": [
        "lda = LDA()\n",
        "lda.fit(x_train, y_train)"
      ],
      "metadata": {
        "colab": {
          "base_uri": "https://localhost:8080/",
          "height": 182
        },
        "id": "zumgjl0wC7C_",
        "outputId": "7dcce4a9-5a09-49de-a512-464e6a75840a"
      },
      "execution_count": null,
      "outputs": [
        {
          "output_type": "error",
          "ename": "NameError",
          "evalue": "ignored",
          "traceback": [
            "\u001b[0;31m---------------------------------------------------------------------------\u001b[0m",
            "\u001b[0;31mNameError\u001b[0m                                 Traceback (most recent call last)",
            "\u001b[0;32m<ipython-input-1-67807599cbb1>\u001b[0m in \u001b[0;36m<module>\u001b[0;34m()\u001b[0m\n\u001b[0;32m----> 1\u001b[0;31m \u001b[0mlda\u001b[0m \u001b[0;34m=\u001b[0m \u001b[0mLDA\u001b[0m\u001b[0;34m(\u001b[0m\u001b[0;34m)\u001b[0m\u001b[0;34m\u001b[0m\u001b[0;34m\u001b[0m\u001b[0m\n\u001b[0m\u001b[1;32m      2\u001b[0m \u001b[0mlda\u001b[0m\u001b[0;34m.\u001b[0m\u001b[0mfit\u001b[0m\u001b[0;34m(\u001b[0m\u001b[0mx_train\u001b[0m\u001b[0;34m,\u001b[0m \u001b[0my_train\u001b[0m\u001b[0;34m)\u001b[0m\u001b[0;34m\u001b[0m\u001b[0;34m\u001b[0m\u001b[0m\n",
            "\u001b[0;31mNameError\u001b[0m: name 'LDA' is not defined"
          ]
        }
      ]
    },
    {
      "cell_type": "code",
      "source": [
        "y_pred = lda.predict(x_test)\n",
        "print(\"Accuracy => \", accuracy_score(y_test, y_pred))"
      ],
      "metadata": {
        "id": "SMZY-6QaDALF"
      },
      "execution_count": null,
      "outputs": []
    },
    {
      "cell_type": "markdown",
      "source": [
        "# Plotting the confusion matrix , \n",
        "# confusion matrix gives the classwise accuracy"
      ],
      "metadata": {
        "id": "CrnLZ8qZDJy4"
      }
    },
    {
      "cell_type": "code",
      "source": [
        "def plot_confusion_matrix(cm, classes=None, title='Confusion matrix'):\n",
        "    \"\"\"Plots a confusion matrix.\"\"\"\n",
        "    if classes is not None:\n",
        "        sns.heatmap(cm, cmap=\"YlGnBu\", xticklabels=classes, yticklabels=classes, vmin=0., vmax=1., annot=True, annot_kws={'size':10})\n",
        "    else:\n",
        "        sns.heatmap(cm, vmin=0., vmax=1.)\n",
        "    plt.title(title)\n",
        "    plt.ylabel('True label')\n",
        "    plt.xlabel('Predicted label')"
      ],
      "metadata": {
        "id": "FWCK8t92DKr4"
      },
      "execution_count": null,
      "outputs": []
    },
    {
      "cell_type": "code",
      "source": [
        "from sklearn.metrics import r2_score, explained_variance_score, confusion_matrix, accuracy_score, classification_report\n",
        "cm3 = confusion_matrix(y_test, y_pred)\n",
        "cm_norm3 = cm3 / cm3.sum(axis=1).reshape(-1,1)\n",
        "\n",
        "plot_confusion_matrix(cm_norm3, classes = [0,1,2,3,4,5,6,7,8,9], title='Confusion matrix')"
      ],
      "metadata": {
        "colab": {
          "base_uri": "https://localhost:8080/",
          "height": 295
        },
        "id": "Ceif5CYaDM64",
        "outputId": "85c3a71c-55f4-4af7-94d4-5e5e68002f1b"
      },
      "execution_count": null,
      "outputs": [
        {
          "output_type": "display_data",
          "data": {
            "text/plain": [
              "<Figure size 432x288 with 2 Axes>"
            ],
            "image/png": "[encoded data removed]"
          },
          "metadata": {
            "needs_background": "light"
          }
        }
      ]
    }
  ]
}