{
  "nbformat": 4,
  "nbformat_minor": 0,
  "metadata": {
    "colab": {
      "name": "SML_A3_Q3.ipynb",
      "provenance": []
    },
    "kernelspec": {
      "name": "python3",
      "display_name": "Python 3"
    },
    "language_info": {
      "name": "python"
    }
  },
  "cells": [
    {
      "cell_type": "markdown",
      "source": [
        "# Imporing Required Libraries"
      ],
      "metadata": {
        "id": "CYJZ5pRz-RAe"
      }
    },
    {
      "cell_type": "code",
      "execution_count": 48,
      "metadata": {
        "id": "-OZSR2gf9zjJ"
      },
      "outputs": [],
      "source": [
        "import matplotlib.pyplot as plt\n",
        "import numpy as np\n",
        "from keras.datasets import fashion_mnist\n",
        "from sklearn.preprocessing import StandardScaler\n",
        "from sklearn.discriminant_analysis import LinearDiscriminantAnalysis as LDA\n",
        "from sklearn.ensemble import RandomForestClassifier\n",
        "from sklearn.metrics import accuracy_score\n",
        "from sklearn.metrics import confusion_matrix\n",
        "import seaborn as sns"
      ]
    },
    {
      "cell_type": "markdown",
      "source": [
        "# Loading Fashion MNIST Dataset"
      ],
      "metadata": {
        "id": "PvC4BtL3-aGF"
      }
    },
    {
      "cell_type": "code",
      "source": [
        "(x_train, y_train), (x_test, y_test) = fashion_mnist.load_data()"
      ],
      "metadata": {
        "id": "LyG4uFtN-OG_",
        "colab": {
          "base_uri": "https://localhost:8080/"
        },
        "outputId": "3e699f6c-59d6-4a95-c1dd-4df480c33c8e"
      },
      "execution_count": 2,
      "outputs": [
        {
          "output_type": "stream",
          "name": "stdout",
          "text": [
            "Downloading data from https://storage.googleapis.com/tensorflow/tf-keras-datasets/train-labels-idx1-ubyte.gz\n",
            "32768/29515 [=================================] - 0s 0us/step\n",
            "40960/29515 [=========================================] - 0s 0us/step\n",
            "Downloading data from https://storage.googleapis.com/tensorflow/tf-keras-datasets/train-images-idx3-ubyte.gz\n",
            "26427392/26421880 [==============================] - 0s 0us/step\n",
            "26435584/26421880 [==============================] - 0s 0us/step\n",
            "Downloading data from https://storage.googleapis.com/tensorflow/tf-keras-datasets/t10k-labels-idx1-ubyte.gz\n",
            "16384/5148 [===============================================================================================] - 0s 0us/step\n",
            "Downloading data from https://storage.googleapis.com/tensorflow/tf-keras-datasets/t10k-images-idx3-ubyte.gz\n",
            "4423680/4422102 [==============================] - 0s 0us/step\n",
            "4431872/4422102 [==============================] - 0s 0us/step\n"
          ]
        }
      ]
    },
    {
      "cell_type": "code",
      "source": [
        "x_train.shape   # 60 thousand training samples"
      ],
      "metadata": {
        "colab": {
          "base_uri": "https://localhost:8080/"
        },
        "id": "sw5tr0fV-jCW",
        "outputId": "fdecc921-6d8d-4c27-cca9-9b395281713d"
      },
      "execution_count": 3,
      "outputs": [
        {
          "output_type": "execute_result",
          "data": {
            "text/plain": [
              "(60000, 28, 28)"
            ]
          },
          "metadata": {},
          "execution_count": 3
        }
      ]
    },
    {
      "cell_type": "code",
      "source": [
        "x_test.shape    # 10 thousand testing samples"
      ],
      "metadata": {
        "colab": {
          "base_uri": "https://localhost:8080/"
        },
        "id": "1c0AHKPP-i-y",
        "outputId": "b5d58571-840c-4059-94fb-65044a738b38"
      },
      "execution_count": 4,
      "outputs": [
        {
          "output_type": "execute_result",
          "data": {
            "text/plain": [
              "(10000, 28, 28)"
            ]
          },
          "metadata": {},
          "execution_count": 4
        }
      ]
    },
    {
      "cell_type": "code",
      "source": [
        "y_train.shape"
      ],
      "metadata": {
        "colab": {
          "base_uri": "https://localhost:8080/"
        },
        "id": "KJFT1RLYRVaV",
        "outputId": "5e9fa8c1-3cf5-4dec-989a-c6a3c4fedecf"
      },
      "execution_count": 5,
      "outputs": [
        {
          "output_type": "execute_result",
          "data": {
            "text/plain": [
              "(60000,)"
            ]
          },
          "metadata": {},
          "execution_count": 5
        }
      ]
    },
    {
      "cell_type": "code",
      "source": [
        "y_test.shape"
      ],
      "metadata": {
        "colab": {
          "base_uri": "https://localhost:8080/"
        },
        "id": "xDr1UQF8RVW-",
        "outputId": "d1ed2bb2-f2ed-4ee2-8af2-8997e920ae60"
      },
      "execution_count": 6,
      "outputs": [
        {
          "output_type": "execute_result",
          "data": {
            "text/plain": [
              "(10000,)"
            ]
          },
          "metadata": {},
          "execution_count": 6
        }
      ]
    },
    {
      "cell_type": "code",
      "source": [
        "y_train[:10]"
      ],
      "metadata": {
        "colab": {
          "base_uri": "https://localhost:8080/"
        },
        "id": "uZ0WkGfNRefl",
        "outputId": "67c16db9-f688-4de1-d9f1-91de8f33a441"
      },
      "execution_count": 7,
      "outputs": [
        {
          "output_type": "execute_result",
          "data": {
            "text/plain": [
              "array([9, 0, 0, 3, 0, 2, 7, 2, 5, 5], dtype=uint8)"
            ]
          },
          "metadata": {},
          "execution_count": 7
        }
      ]
    },
    {
      "cell_type": "markdown",
      "source": [
        "#  Data Visualisation\n"
      ],
      "metadata": {
        "id": "fZw9YrGs_Is1"
      }
    },
    {
      "cell_type": "code",
      "source": [
        "for i in range(9):\n",
        "\t# define subplot\n",
        "\tplt.subplot(330 + 1 + i)\n",
        "\t# plot raw pixel data\n",
        "\tplt.imshow(x_train[i], cmap=plt.get_cmap('gray'))\n",
        "# show the figure\n",
        "plt.show()\n"
      ],
      "metadata": {
        "colab": {
          "base_uri": "https://localhost:8080/",
          "height": 268
        },
        "id": "KrG69cqR-i8L",
        "outputId": "15d5efe8-6f94-4fe8-8923-1ddb1d10c0bc"
      },
      "execution_count": 8,
      "outputs": [
        {
          "output_type": "display_data",
          "data": {
            "text/plain": [
              "<Figure size 432x288 with 9 Axes>"
            ],
            "image/png": "[encoded data removed]"
          },
          "metadata": {
            "needs_background": "light"
          }
        }
      ]
    },
    {
      "cell_type": "code",
      "source": [
        "class_name = [\"T-shirt\" ,\"Trouser\", \"Pullover\",\"Dress\", \"Coat\", \"Sandal\", \"Shirt\" , \"Sneaker\" , \"Bag\" , \"Ankle Boot\"]"
      ],
      "metadata": {
        "id": "LnDeO9ph_qTu"
      },
      "execution_count": 9,
      "outputs": []
    },
    {
      "cell_type": "code",
      "source": [
        "x_train = X_train = x_train.reshape(60000,28*28)\n",
        "x_test = X_test = x_test.reshape(10000,28*28)"
      ],
      "metadata": {
        "id": "-oOBSXks_oyq"
      },
      "execution_count": 10,
      "outputs": []
    },
    {
      "cell_type": "code",
      "source": [
        "X_train.shape"
      ],
      "metadata": {
        "colab": {
          "base_uri": "https://localhost:8080/"
        },
        "id": "GCuIRTBd_ovK",
        "outputId": "0d6a1be9-2e5c-4347-d4bb-0889f9903148"
      },
      "execution_count": 11,
      "outputs": [
        {
          "output_type": "execute_result",
          "data": {
            "text/plain": [
              "(60000, 784)"
            ]
          },
          "metadata": {},
          "execution_count": 11
        }
      ]
    },
    {
      "cell_type": "code",
      "source": [
        "X_train[0].shape"
      ],
      "metadata": {
        "colab": {
          "base_uri": "https://localhost:8080/"
        },
        "id": "_mUle0OuToMo",
        "outputId": "4137b066-3fe1-4dac-a6a7-71001439acae"
      },
      "execution_count": 12,
      "outputs": [
        {
          "output_type": "execute_result",
          "data": {
            "text/plain": [
              "(784,)"
            ]
          },
          "metadata": {},
          "execution_count": 12
        }
      ]
    },
    {
      "cell_type": "code",
      "source": [
        "X_test.shape"
      ],
      "metadata": {
        "colab": {
          "base_uri": "https://localhost:8080/"
        },
        "id": "xyi4p1jl_ose",
        "outputId": "a07c5611-cf20-44e6-ea7e-76b0f9798b6a"
      },
      "execution_count": 13,
      "outputs": [
        {
          "output_type": "execute_result",
          "data": {
            "text/plain": [
              "(10000, 784)"
            ]
          },
          "metadata": {},
          "execution_count": 13
        }
      ]
    },
    {
      "cell_type": "code",
      "source": [
        "x_test.shape"
      ],
      "metadata": {
        "colab": {
          "base_uri": "https://localhost:8080/"
        },
        "id": "3GP60pzdt4-o",
        "outputId": "a0898227-3bfb-4037-8700-0d15e7ceaa1c"
      },
      "execution_count": 15,
      "outputs": [
        {
          "output_type": "execute_result",
          "data": {
            "text/plain": [
              "(10000, 784)"
            ]
          },
          "metadata": {},
          "execution_count": 15
        }
      ]
    },
    {
      "cell_type": "code",
      "source": [
        "x_train.shape"
      ],
      "metadata": {
        "colab": {
          "base_uri": "https://localhost:8080/"
        },
        "id": "l7h-Oq05t7zS",
        "outputId": "2d08ca03-7f35-45b1-ccd2-2dbcca73b9bc"
      },
      "execution_count": 16,
      "outputs": [
        {
          "output_type": "execute_result",
          "data": {
            "text/plain": [
              "(60000, 784)"
            ]
          },
          "metadata": {},
          "execution_count": 16
        }
      ]
    },
    {
      "cell_type": "code",
      "source": [
        "class_list = []\n",
        "for i in range(10):\n",
        "  class_list.append([])\n"
      ],
      "metadata": {
        "id": "ZgdeouMGSRLO"
      },
      "execution_count": 14,
      "outputs": []
    },
    {
      "cell_type": "code",
      "source": [
        "for i in range(60000):                # separating data classwise out of 60K ,  6K sample beglongs to each class\n",
        "  class_list[y_train[i]].append(X_train[i])\n"
      ],
      "metadata": {
        "id": "bnslS2ExSvs9"
      },
      "execution_count": 17,
      "outputs": []
    },
    {
      "cell_type": "code",
      "source": [
        "len(class_list[0][0])"
      ],
      "metadata": {
        "colab": {
          "base_uri": "https://localhost:8080/"
        },
        "id": "7eY93si6VB0_",
        "outputId": "e8138f5e-aa6e-45ae-e236-7eef7a996336"
      },
      "execution_count": 18,
      "outputs": [
        {
          "output_type": "execute_result",
          "data": {
            "text/plain": [
              "784"
            ]
          },
          "metadata": {},
          "execution_count": 18
        }
      ]
    },
    {
      "cell_type": "code",
      "source": [
        "class_list = np.array(class_list)    # converting the list to numpy array"
      ],
      "metadata": {
        "id": "lSUdSIOOVCUN"
      },
      "execution_count": 19,
      "outputs": []
    },
    {
      "cell_type": "code",
      "source": [
        "class_list.shape                     # 10 classses with 6K samples and 784 dimensions each"
      ],
      "metadata": {
        "colab": {
          "base_uri": "https://localhost:8080/"
        },
        "id": "f-ZpfzfKVCZA",
        "outputId": "fa0e4325-ee8d-4d36-d1df-86661f90cccd"
      },
      "execution_count": 20,
      "outputs": [
        {
          "output_type": "execute_result",
          "data": {
            "text/plain": [
              "(10, 6000, 784)"
            ]
          },
          "metadata": {},
          "execution_count": 20
        }
      ]
    },
    {
      "cell_type": "code",
      "source": [
        "class_list[0].shape                  # shape of each class"
      ],
      "metadata": {
        "colab": {
          "base_uri": "https://localhost:8080/"
        },
        "id": "zos7A3NqVCfL",
        "outputId": "edb8e0dc-c795-4ec0-d3a0-7127bf67f36b"
      },
      "execution_count": 21,
      "outputs": [
        {
          "output_type": "execute_result",
          "data": {
            "text/plain": [
              "(6000, 784)"
            ]
          },
          "metadata": {},
          "execution_count": 21
        }
      ]
    },
    {
      "cell_type": "code",
      "source": [
        "X_list = []                          # converted the N x D format to D x N for each class for computation\n",
        "for i in range(10):\n",
        "  X_list.append(class_list[i].transpose())\n",
        "  \n",
        "X_list = np.array(X_list)\n",
        "X_list[0].shape"
      ],
      "metadata": {
        "colab": {
          "base_uri": "https://localhost:8080/"
        },
        "id": "LPMluy6PYhHo",
        "outputId": "c7fbd055-481c-4042-fcb7-c2c88eefd37f"
      },
      "execution_count": 22,
      "outputs": [
        {
          "output_type": "execute_result",
          "data": {
            "text/plain": [
              "(784, 6000)"
            ]
          },
          "metadata": {},
          "execution_count": 22
        }
      ]
    },
    {
      "cell_type": "code",
      "source": [
        "# finding scatter matrix of each class Xi\n",
        "\n",
        "Sw = np.zeros([784,784])          # Sw matrix = S1 + S2 + S3 \n",
        "\n",
        "for i in range(10):\n",
        "\n",
        "  A = X_list[i] - X_list[i].mean(axis = 1, keepdims=True)\n",
        "  B = A.transpose()\n",
        "  S = A@B\n",
        "  Sw = Sw + S\n",
        "\n",
        "Sw.shape                        "
      ],
      "metadata": {
        "colab": {
          "base_uri": "https://localhost:8080/"
        },
        "id": "Q_R1F3KsVCta",
        "outputId": "35beac47-ccc4-4925-f8fc-ec42ed760365"
      },
      "execution_count": 23,
      "outputs": [
        {
          "output_type": "execute_result",
          "data": {
            "text/plain": [
              "(784, 784)"
            ]
          },
          "metadata": {},
          "execution_count": 23
        }
      ]
    },
    {
      "cell_type": "code",
      "source": [
        "# finding ST matrix  Total Scatter matrix\n",
        "XT = np.zeros([784,6000])\n",
        "\n",
        "for i in range(10):\n",
        "  XT = XT + X_list[i]                    # XT = X1 + X2 + X3 + X4 + .......\n",
        "\n",
        "XT = XT - XT.mean(axis = 1 , keepdims=True)    # (XT - Ux)\n",
        "XTT = XT.transpose()                           # (XT - Ux)'\n",
        "\n",
        "ST = XT@XTT                  # ST = (XT - Ux)(XT - Ux)'         total scatter matrix\n",
        "\n",
        "ST.shape                 "
      ],
      "metadata": {
        "colab": {
          "base_uri": "https://localhost:8080/"
        },
        "id": "vEKmnTVOhwUx",
        "outputId": "84ad0494-40c5-443e-bce8-f88fb8740798"
      },
      "execution_count": 24,
      "outputs": [
        {
          "output_type": "execute_result",
          "data": {
            "text/plain": [
              "(784, 784)"
            ]
          },
          "metadata": {},
          "execution_count": 24
        }
      ]
    },
    {
      "cell_type": "code",
      "source": [
        "SB = ST - Sw      # class scatter matrix = Total Scatter - Sw\n",
        "\n",
        "SB.shape"
      ],
      "metadata": {
        "colab": {
          "base_uri": "https://localhost:8080/"
        },
        "id": "mKbqvY3_hwQr",
        "outputId": "ab13fe33-00cd-45c2-99ff-a44fa4bcb44a"
      },
      "execution_count": 25,
      "outputs": [
        {
          "output_type": "execute_result",
          "data": {
            "text/plain": [
              "(784, 784)"
            ]
          },
          "metadata": {},
          "execution_count": 25
        }
      ]
    },
    {
      "cell_type": "code",
      "source": [
        "Temp = np.linalg.inv(Sw)   # inverse of Sw matrix \n",
        "Temp = Temp@SB\n",
        "Temp.shape"
      ],
      "metadata": {
        "colab": {
          "base_uri": "https://localhost:8080/"
        },
        "id": "-RP1OIK5hwOm",
        "outputId": "47b0fb12-bf87-4827-b602-04c34369036d"
      },
      "execution_count": 27,
      "outputs": [
        {
          "output_type": "execute_result",
          "data": {
            "text/plain": [
              "(784, 784)"
            ]
          },
          "metadata": {},
          "execution_count": 27
        }
      ]
    },
    {
      "cell_type": "code",
      "source": [
        "evalue, evector = np.linalg.eig(Temp) \n",
        "evector.shape"
      ],
      "metadata": {
        "colab": {
          "base_uri": "https://localhost:8080/"
        },
        "id": "mOBkCMdfhwMT",
        "outputId": "945bfb3d-53eb-48b6-a81e-8f88edca2555"
      },
      "execution_count": 28,
      "outputs": [
        {
          "output_type": "execute_result",
          "data": {
            "text/plain": [
              "(784, 784)"
            ]
          },
          "metadata": {},
          "execution_count": 28
        }
      ]
    },
    {
      "cell_type": "code",
      "source": [
        "W = evector"
      ],
      "metadata": {
        "id": "7RPxtLq-hwJ4"
      },
      "execution_count": 29,
      "outputs": []
    },
    {
      "cell_type": "code",
      "source": [
        "W.shape"
      ],
      "metadata": {
        "colab": {
          "base_uri": "https://localhost:8080/"
        },
        "id": "lfr9fA9BvPJ5",
        "outputId": "3e8ebe21-54e4-449f-d927-d13acc1f6b5a"
      },
      "execution_count": 30,
      "outputs": [
        {
          "output_type": "execute_result",
          "data": {
            "text/plain": [
              "(784, 784)"
            ]
          },
          "metadata": {},
          "execution_count": 30
        }
      ]
    },
    {
      "cell_type": "code",
      "source": [
        "Y_list = []             \n",
        " \n",
        "for i in range(10):\n",
        "  Y_list.append(W.T@X_list[i])          # Y = W'X  new sample\n"
      ],
      "metadata": {
        "id": "j3G6RO3LhwHe"
      },
      "execution_count": 31,
      "outputs": []
    },
    {
      "cell_type": "code",
      "source": [
        "Y_list = np.array(Y_list)\n",
        "Y_list.shape"
      ],
      "metadata": {
        "colab": {
          "base_uri": "https://localhost:8080/"
        },
        "id": "ypxKDdyzhwFV",
        "outputId": "3fbb7565-0d19-4893-9cb9-3f722a09b520"
      },
      "execution_count": 32,
      "outputs": [
        {
          "output_type": "execute_result",
          "data": {
            "text/plain": [
              "(10, 784, 6000)"
            ]
          },
          "metadata": {},
          "execution_count": 32
        }
      ]
    },
    {
      "cell_type": "code",
      "source": [
        "trainX = Y_list[0].transpose()\n",
        "print(trainX.shape)\n",
        "\n",
        "for i in range(1,10):\n",
        "  trainX = np.concatenate((trainX, Y_list[i].T))\n",
        "\n",
        "trainX.shape"
      ],
      "metadata": {
        "colab": {
          "base_uri": "https://localhost:8080/"
        },
        "id": "yvENh6eg0gaj",
        "outputId": "c7623137-e4d0-4455-eabe-167dd0744d0c"
      },
      "execution_count": 33,
      "outputs": [
        {
          "output_type": "stream",
          "name": "stdout",
          "text": [
            "(6000, 784)\n"
          ]
        },
        {
          "output_type": "execute_result",
          "data": {
            "text/plain": [
              "(60000, 784)"
            ]
          },
          "metadata": {},
          "execution_count": 33
        }
      ]
    },
    {
      "cell_type": "code",
      "source": [
        "trainY = np.zeros([60000])\n",
        "for i in range(10):\n",
        "  for j in range(6000):\n",
        "    trainY[6000*i + j] = i\n",
        "\n",
        "trainY.shape"
      ],
      "metadata": {
        "id": "gxJPweG26O26",
        "colab": {
          "base_uri": "https://localhost:8080/"
        },
        "outputId": "2306624c-ed6f-42d9-abba-d1c4943ac4cc"
      },
      "execution_count": 35,
      "outputs": [
        {
          "output_type": "execute_result",
          "data": {
            "text/plain": [
              "(60000,)"
            ]
          },
          "metadata": {},
          "execution_count": 35
        }
      ]
    },
    {
      "cell_type": "markdown",
      "source": [
        "# Applying LDA on transformed data"
      ],
      "metadata": {
        "id": "zHBJD0PascKh"
      }
    },
    {
      "cell_type": "code",
      "source": [
        "lda = LDA()\n",
        "lda.fit(x_train, y_train)"
      ],
      "metadata": {
        "colab": {
          "base_uri": "https://localhost:8080/"
        },
        "id": "NDntLx1PwQC8",
        "outputId": "fa2aeefd-704a-47db-dfd6-b506daebd364"
      },
      "execution_count": 38,
      "outputs": [
        {
          "output_type": "execute_result",
          "data": {
            "text/plain": [
              "LinearDiscriminantAnalysis()"
            ]
          },
          "metadata": {},
          "execution_count": 38
        }
      ]
    },
    {
      "cell_type": "code",
      "source": [
        "y_pred = lda.predict(x_test)\n",
        "print(\"Accuracy => \", accuracy_score(y_test, y_pred))"
      ],
      "metadata": {
        "colab": {
          "base_uri": "https://localhost:8080/"
        },
        "id": "Nxya4UsBxLjw",
        "outputId": "b751d743-bf66-4165-8c6e-01af8e3c53b0"
      },
      "execution_count": 46,
      "outputs": [
        {
          "output_type": "stream",
          "name": "stdout",
          "text": [
            "Accuracy =>  0.8151\n"
          ]
        }
      ]
    },
    {
      "cell_type": "markdown",
      "source": [
        "# Plotting the confusion matrix , \n",
        "# confusion matrix gives the classwise accuracy"
      ],
      "metadata": {
        "id": "tJZpeWyC19QR"
      }
    },
    {
      "cell_type": "code",
      "source": [
        "def plot_confusion_matrix(cm, classes=None, title='Confusion matrix'):\n",
        "    \"\"\"Plots a confusion matrix.\"\"\"\n",
        "    if classes is not None:\n",
        "        sns.heatmap(cm, cmap=\"YlGnBu\", xticklabels=classes, yticklabels=classes, vmin=0., vmax=1., annot=True, annot_kws={'size':10})\n",
        "    else:\n",
        "        sns.heatmap(cm, vmin=0., vmax=1.)\n",
        "    plt.title(title)\n",
        "    plt.ylabel('True label')\n",
        "    plt.xlabel('Predicted label')"
      ],
      "metadata": {
        "id": "VuZmRvMB1KO4"
      },
      "execution_count": 53,
      "outputs": []
    },
    {
      "cell_type": "code",
      "source": [
        "from sklearn.metrics import r2_score, explained_variance_score, confusion_matrix, accuracy_score, classification_report\n",
        "cm3 = confusion_matrix(y_test, y_pred)\n",
        "cm_norm3 = cm3 / cm3.sum(axis=1).reshape(-1,1)\n",
        "\n",
        "plot_confusion_matrix(cm_norm3, classes = class_name, title='Confusion matrix')"
      ],
      "metadata": {
        "id": "I6lWANRP8Tim",
        "colab": {
          "base_uri": "https://localhost:8080/",
          "height": 339
        },
        "outputId": "3e07f970-ecba-48dd-93d7-488485ba27c3"
      },
      "execution_count": 54,
      "outputs": [
        {
          "output_type": "display_data",
          "data": {
            "text/plain": [
              "<Figure size 432x288 with 2 Axes>"
            ],
            "image/png": "[encoded data removed]"
          },
          "metadata": {
            "needs_background": "light"
          }
        }
      ]
    }
  ]
}